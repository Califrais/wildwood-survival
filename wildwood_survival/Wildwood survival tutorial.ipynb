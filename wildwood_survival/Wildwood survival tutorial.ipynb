{
 "cells": [
  {
   "cell_type": "code",
   "execution_count": 1,
   "id": "dbaad53f",
   "metadata": {
    "scrolled": true
   },
   "outputs": [
    {
     "name": "stderr",
     "output_type": "stream",
     "text": [
      "/Users/acsi/Working/RF_survival/Implementations/venv3.9/lib/python3.10/site-packages/xgboost/compat.py:36: FutureWarning: pandas.Int64Index is deprecated and will be removed from pandas in a future version. Use pandas.Index with the appropriate dtype instead.\n",
      "  from pandas import MultiIndex, Int64Index\n",
      "R[write to console]: Le chargement a nécessité le package : nlme\n",
      "\n",
      "R[write to console]: Le chargement a nécessité le package : survival\n",
      "\n"
     ]
    },
    {
     "name": "stdout",
     "output_type": "stream",
     "text": [
      "/Users/acsi/Working/RF_survival/Implementations/wildwood_survival/wildwood_survival\n"
     ]
    },
    {
     "name": "stderr",
     "output_type": "stream",
     "text": [
      "R[write to console]: Le chargement a nécessité le package : doParallel\n",
      "\n",
      "R[write to console]: Le chargement a nécessité le package : foreach\n",
      "\n",
      "R[write to console]: Le chargement a nécessité le package : iterators\n",
      "\n",
      "R[write to console]: Le chargement a nécessité le package : parallel\n",
      "\n",
      "R[write to console]: Le chargement a nécessité le package : rstan\n",
      "\n",
      "R[write to console]: Le chargement a nécessité le package : StanHeaders\n",
      "\n",
      "R[write to console]: Le chargement a nécessité le package : ggplot2\n",
      "\n",
      "R[write to console]: rstan (Version 2.21.2, GitRev: 2e1f913d3ca3)\n",
      "\n",
      "R[write to console]: For execution on a local, multicore CPU with excess RAM we recommend calling\n",
      "options(mc.cores = parallel::detectCores()).\n",
      "To avoid recompilation of unchanged Stan programs, we recommend calling\n",
      "rstan_options(auto_write = TRUE)\n",
      "\n"
     ]
    }
   ],
   "source": [
    "from competing_methods.estimators import competing_estimators\n",
    "from data_loader import data_loader_\n",
    "from utils.utils_ import data_stats\n",
    "\n",
    "from prettytable import PrettyTable\n",
    "import numpy as np\n",
    "import pandas as pd"
   ]
  },
  {
   "cell_type": "markdown",
   "id": "6a74d965",
   "metadata": {},
   "source": [
    "# 1. Data analysis"
   ]
  },
  {
   "cell_type": "markdown",
   "id": "655f493b",
   "metadata": {},
   "source": [
    "## Data loading ##"
   ]
  },
  {
   "cell_type": "code",
   "execution_count": 2,
   "id": "285723f2",
   "metadata": {},
   "outputs": [],
   "source": [
    "data_list = [\"GBSG\", \"PBCSeq\", \"simple_simulated_data\", \"linear_simulated_data\", \"non_linear_simulated_data\"]\n",
    "datas = data_loader_.load_data(data_list)"
   ]
  },
  {
   "cell_type": "markdown",
   "id": "193f52d8",
   "metadata": {},
   "source": [
    "## Simulated data"
   ]
  },
  {
   "cell_type": "markdown",
   "id": "d2c1a178",
   "metadata": {},
   "source": [
    "### Simple simulated data\n",
    "\n",
    "- Dataset is simulated with simple setting"
   ]
  },
  {
   "cell_type": "code",
   "execution_count": 3,
   "id": "c1be2f96",
   "metadata": {
    "scrolled": false
   },
   "outputs": [
    {
     "name": "stdout",
     "output_type": "stream",
     "text": [
      "\u001b[1mFirst five observations \n",
      "\u001b[0m          f0        f1  delta       time\n",
      "0  3.913431 -3.520114      1  26.257240\n",
      "1  4.082009 -2.714783      1  34.195766\n",
      "2  4.808361 -2.209437      1  29.601724\n",
      "3  6.206976 -2.560513      1  29.029687\n",
      "4  4.493611 -2.176092      1  34.998874 \n",
      "\n",
      "\u001b[1mShape of the data \u001b[0m (100, 4) \n",
      "\n",
      "\u001b[1mLevel of censoring is \u001b[0m 0.0 % \n",
      "\n",
      "\u001b[1mData type \n",
      "\u001b[0m f0       float64\n",
      "f1       float64\n",
      "delta     uint16\n",
      "time     float64\n",
      "dtype: object \n",
      "\n",
      "\u001b[1mHistogram of randomly selected features\u001b[0m\n"
     ]
    },
    {
     "data": {
      "image/png": "[encoded data removed]",
      "text/plain": [
       "<Figure size 720x216 with 2 Axes>"
      ]
     },
     "metadata": {
      "needs_background": "light"
     },
     "output_type": "display_data"
    },
    {
     "name": "stdout",
     "output_type": "stream",
     "text": [
      "\u001b[1mSurvival curves\u001b[0m\n"
     ]
    },
    {
     "data": {
      "image/png": "[encoded data removed]",
      "text/plain": [
       "<Figure size 720x216 with 2 Axes>"
      ]
     },
     "metadata": {
      "needs_background": "light"
     },
     "output_type": "display_data"
    }
   ],
   "source": [
    "data_name = 'simple_simulated_data'\n",
    "data_stats(datas, data_name)"
   ]
  },
  {
   "cell_type": "markdown",
   "id": "11529020",
   "metadata": {},
   "source": [
    "### Linear simulated data\n",
    "\n",
    "- Simulated dataset with the survival time T is sampled according to an exponential Cox model in which the regression term in form linear function."
   ]
  },
  {
   "cell_type": "code",
   "execution_count": 4,
   "id": "92452f82",
   "metadata": {
    "scrolled": false
   },
   "outputs": [
    {
     "name": "stdout",
     "output_type": "stream",
     "text": [
      "\u001b[1mFirst five observations \n",
      "\u001b[0m          f0        f1        f2        f3        f4        f5        f6  \\\n",
      "0  0.992179 -0.560890  0.474831  0.083731  0.841454 -0.485648 -0.268600   \n",
      "1  0.907947  0.059210 -0.933487 -0.326814  0.644247  0.434109  0.923202   \n",
      "2  0.773858 -0.378411 -0.625807 -0.836263 -0.489470  0.421766 -0.887077   \n",
      "3 -0.887055  0.444774  0.170252  0.528846  0.267029  0.904368  0.567246   \n",
      "4  0.562196 -0.120820 -0.823362  0.275214 -0.857608 -0.597362 -0.699825   \n",
      "\n",
      "         f7        f8        f9  ...       f42       f43       f44       f45  \\\n",
      "0  0.313994  0.290177 -0.177289  ...  0.313410 -0.668779 -0.138848 -0.220726   \n",
      "1  0.661002 -0.051159  0.004736  ... -0.851141  0.203909  0.083325 -0.793568   \n",
      "2  0.997526  0.775473  0.108947  ...  0.732509  0.558514 -0.691861 -0.137617   \n",
      "3 -0.505856 -0.834634  0.170596  ... -0.645809  0.806993  0.551142  0.309213   \n",
      "4  0.740674 -0.809395 -0.654343  ... -0.979770  0.051754  0.131933  0.180259   \n",
      "\n",
      "        f46       f47       f48       f49  delta      time  \n",
      "0  0.604913 -0.095875  0.232897 -0.295473      1  3.650595  \n",
      "1  0.204433 -0.560093  0.279711 -0.576255      1  0.169637  \n",
      "2  0.732690  0.009755 -0.428975 -0.278020      1  0.155613  \n",
      "3  0.851293 -0.867919  0.091304 -0.347571      1  1.670709  \n",
      "4  0.584748  0.681257 -0.102960  0.190187      1  0.116539  \n",
      "\n",
      "[5 rows x 52 columns] \n",
      "\n",
      "\u001b[1mShape of the data \u001b[0m (1000, 52) \n",
      "\n",
      "\u001b[1mLevel of censoring is \u001b[0m 11.4 % \n",
      "\n",
      "\u001b[1mData type \n",
      "\u001b[0m f0       float64\n",
      "f1       float64\n",
      "f2       float64\n",
      "f3       float64\n",
      "f4       float64\n",
      "f5       float64\n",
      "f6       float64\n",
      "f7       float64\n",
      "f8       float64\n",
      "f9       float64\n",
      "f10      float64\n",
      "f11      float64\n",
      "f12      float64\n",
      "f13      float64\n",
      "f14      float64\n",
      "f15      float64\n",
      "f16      float64\n",
      "f17      float64\n",
      "f18      float64\n",
      "f19      float64\n",
      "f20      float64\n",
      "f21      float64\n",
      "f22      float64\n",
      "f23      float64\n",
      "f24      float64\n",
      "f25      float64\n",
      "f26      float64\n",
      "f27      float64\n",
      "f28      float64\n",
      "f29      float64\n",
      "f30      float64\n",
      "f31      float64\n",
      "f32      float64\n",
      "f33      float64\n",
      "f34      float64\n",
      "f35      float64\n",
      "f36      float64\n",
      "f37      float64\n",
      "f38      float64\n",
      "f39      float64\n",
      "f40      float64\n",
      "f41      float64\n",
      "f42      float64\n",
      "f43      float64\n",
      "f44      float64\n",
      "f45      float64\n",
      "f46      float64\n",
      "f47      float64\n",
      "f48      float64\n",
      "f49      float64\n",
      "delta     uint16\n",
      "time     float64\n",
      "dtype: object \n",
      "\n",
      "\u001b[1mHistogram of randomly selected features\u001b[0m\n"
     ]
    },
    {
     "data": {
      "image/png": "[encoded data removed]",
      "text/plain": [
       "<Figure size 1080x216 with 3 Axes>"
      ]
     },
     "metadata": {
      "needs_background": "light"
     },
     "output_type": "display_data"
    },
    {
     "name": "stdout",
     "output_type": "stream",
     "text": [
      "\u001b[1mSurvival curves\u001b[0m\n"
     ]
    },
    {
     "data": {
      "image/png": "[encoded data removed]",
      "text/plain": [
       "<Figure size 720x216 with 2 Axes>"
      ]
     },
     "metadata": {
      "needs_background": "light"
     },
     "output_type": "display_data"
    }
   ],
   "source": [
    "data_name = 'linear_simulated_data'\n",
    "data_stats(datas, data_name)"
   ]
  },
  {
   "cell_type": "markdown",
   "id": "d3bca350",
   "metadata": {},
   "source": [
    "### Non linear simulated data\n",
    "\n",
    "- Simulated dataset with the survival time T is sampled according to an exponential Cox model in which the regression term in form exponential function."
   ]
  },
  {
   "cell_type": "code",
   "execution_count": 5,
   "id": "465dfd36",
   "metadata": {},
   "outputs": [
    {
     "name": "stdout",
     "output_type": "stream",
     "text": [
      "\u001b[1mFirst five observations \n",
      "\u001b[0m          f0        f1        f2        f3        f4        f5        f6  \\\n",
      "0 -0.125933  0.807905 -0.936605 -0.231562 -0.181914 -0.090949  0.490131   \n",
      "1  0.230998 -0.020753 -0.379677 -0.258374 -0.091561 -0.142984 -0.071915   \n",
      "2  0.160343 -0.607926  0.912231  0.608607 -0.348372 -0.511996  0.825617   \n",
      "3  0.016922  0.059721 -0.797476 -0.537186 -0.361137  0.988906 -0.123206   \n",
      "4  0.575779 -0.304374  0.272982 -0.832832 -0.530055 -0.712040 -0.310548   \n",
      "\n",
      "         f7        f8        f9  ...       f42       f43       f44       f45  \\\n",
      "0 -0.402651 -0.885800  0.731963  ... -0.789798  0.043348  0.663996 -0.342387   \n",
      "1  0.375015 -0.853529 -0.190239  ... -0.902579 -0.037678  0.819411  0.757583   \n",
      "2 -0.944295  0.625399  0.468653  ...  0.458234 -0.441820  0.799943  0.050415   \n",
      "3  0.866476  0.927110  0.320139  ...  0.749286  0.696500  0.756248 -0.184345   \n",
      "4  0.484103 -0.357675 -0.971482  ...  0.674158  0.826197  0.947073  0.347048   \n",
      "\n",
      "        f46       f47       f48       f49  delta        time  \n",
      "0 -0.959146 -0.202063 -0.720218 -0.534767      1  137.740848  \n",
      "1 -0.449985 -0.691282  0.369826 -0.788303      0   83.457670  \n",
      "2  0.604412 -0.895789 -0.693196  0.191942      1  132.636748  \n",
      "3  0.372253 -0.644869 -0.160127 -0.858174      1  146.300547  \n",
      "4 -0.981214  0.085232 -0.996977 -0.469950      1   46.941721  \n",
      "\n",
      "[5 rows x 52 columns] \n",
      "\n",
      "\u001b[1mShape of the data \u001b[0m (1000, 52) \n",
      "\n",
      "\u001b[1mLevel of censoring is \u001b[0m 17.4 % \n",
      "\n",
      "\u001b[1mData type \n",
      "\u001b[0m f0       float64\n",
      "f1       float64\n",
      "f2       float64\n",
      "f3       float64\n",
      "f4       float64\n",
      "f5       float64\n",
      "f6       float64\n",
      "f7       float64\n",
      "f8       float64\n",
      "f9       float64\n",
      "f10      float64\n",
      "f11      float64\n",
      "f12      float64\n",
      "f13      float64\n",
      "f14      float64\n",
      "f15      float64\n",
      "f16      float64\n",
      "f17      float64\n",
      "f18      float64\n",
      "f19      float64\n",
      "f20      float64\n",
      "f21      float64\n",
      "f22      float64\n",
      "f23      float64\n",
      "f24      float64\n",
      "f25      float64\n",
      "f26      float64\n",
      "f27      float64\n",
      "f28      float64\n",
      "f29      float64\n",
      "f30      float64\n",
      "f31      float64\n",
      "f32      float64\n",
      "f33      float64\n",
      "f34      float64\n",
      "f35      float64\n",
      "f36      float64\n",
      "f37      float64\n",
      "f38      float64\n",
      "f39      float64\n",
      "f40      float64\n",
      "f41      float64\n",
      "f42      float64\n",
      "f43      float64\n",
      "f44      float64\n",
      "f45      float64\n",
      "f46      float64\n",
      "f47      float64\n",
      "f48      float64\n",
      "f49      float64\n",
      "delta     uint16\n",
      "time     float64\n",
      "dtype: object \n",
      "\n",
      "\u001b[1mHistogram of randomly selected features\u001b[0m\n"
     ]
    },
    {
     "data": {
      "image/png": "[encoded data removed]",
      "text/plain": [
       "<Figure size 1080x216 with 3 Axes>"
      ]
     },
     "metadata": {
      "needs_background": "light"
     },
     "output_type": "display_data"
    },
    {
     "name": "stdout",
     "output_type": "stream",
     "text": [
      "\u001b[1mSurvival curves\u001b[0m\n"
     ]
    },
    {
     "data": {
      "image/png": "[encoded data removed]",
      "text/plain": [
       "<Figure size 720x216 with 2 Axes>"
      ]
     },
     "metadata": {
      "needs_background": "light"
     },
     "output_type": "display_data"
    }
   ],
   "source": [
    "data_name = 'non_linear_simulated_data'\n",
    "data_stats(datas, data_name)"
   ]
  },
  {
   "cell_type": "markdown",
   "id": "4b7a27d3",
   "metadata": {},
   "source": [
    "## Real data"
   ]
  },
  {
   "cell_type": "markdown",
   "id": "8788d944",
   "metadata": {},
   "source": [
    "### Mayo Clinic Primary Biliary Cirrhosis"
   ]
  },
  {
   "cell_type": "code",
   "execution_count": 6,
   "id": "f0d1582a",
   "metadata": {},
   "outputs": [
    {
     "name": "stdout",
     "output_type": "stream",
     "text": [
      "\u001b[1mFirst five observations \n",
      "\u001b[0m     drug        age  sex  delta       time\n",
      "0    2.0  58.766838  2.0      1   1.095170\n",
      "2    2.0  56.447815  2.0      0  14.152338\n",
      "11   2.0  70.074472  1.0      1   2.770781\n",
      "15   2.0  54.742087  2.0      1   5.270507\n",
      "22   1.0  38.106451  2.0      0   4.120578 \n",
      "\n",
      "\u001b[1mShape of the data \u001b[0m (312, 5) \n",
      "\n",
      "\u001b[1mLevel of censoring is \u001b[0m 55.1 % \n",
      "\n",
      "\u001b[1mData type \n",
      "\u001b[0m drug     float64\n",
      "age      float64\n",
      "sex      float64\n",
      "delta     uint16\n",
      "time     float64\n",
      "dtype: object \n",
      "\n",
      "\u001b[1mHistogram of randomly selected features\u001b[0m\n"
     ]
    },
    {
     "data": {
      "image/png": "[encoded data removed]",
      "text/plain": [
       "<Figure size 1080x216 with 3 Axes>"
      ]
     },
     "metadata": {
      "needs_background": "light"
     },
     "output_type": "display_data"
    },
    {
     "name": "stdout",
     "output_type": "stream",
     "text": [
      "\u001b[1mSurvival curves\u001b[0m\n"
     ]
    },
    {
     "data": {
      "image/png": "[encoded data removed]",
      "text/plain": [
       "<Figure size 720x216 with 2 Axes>"
      ]
     },
     "metadata": {
      "needs_background": "light"
     },
     "output_type": "display_data"
    }
   ],
   "source": [
    "data_name = 'PBCSeq'\n",
    "data_stats(datas, data_name)"
   ]
  },
  {
   "cell_type": "markdown",
   "id": "220ef486",
   "metadata": {},
   "source": [
    "### German Breast Cancer Study Group"
   ]
  },
  {
   "cell_type": "code",
   "execution_count": 7,
   "id": "3fb9b473",
   "metadata": {},
   "outputs": [
    {
     "name": "stdout",
     "output_type": "stream",
     "text": [
      "\u001b[1mFirst five observations \n",
      "\u001b[0m     age  estrec  horTh=yes  menostat=Post  pnodes  progrec  tgrade  tsize  \\\n",
      "0  70.0    66.0        0.0            1.0     3.0     48.0       2   21.0   \n",
      "1  56.0    77.0        1.0            1.0     7.0     61.0       2   12.0   \n",
      "2  58.0   271.0        1.0            1.0     9.0     52.0       2   35.0   \n",
      "3  59.0    29.0        1.0            1.0     4.0     60.0       2   17.0   \n",
      "4  73.0    65.0        0.0            1.0     1.0     26.0       2   35.0   \n",
      "\n",
      "   delta    time  \n",
      "0      1  1814.0  \n",
      "1      1  2018.0  \n",
      "2      1   712.0  \n",
      "3      1  1807.0  \n",
      "4      1   772.0   \n",
      "\n",
      "\u001b[1mShape of the data \u001b[0m (686, 10) \n",
      "\n",
      "\u001b[1mLevel of censoring is \u001b[0m 56.4 % \n",
      "\n",
      "\u001b[1mData type \n",
      "\u001b[0m age              float64\n",
      "estrec           float64\n",
      "horTh=yes        float64\n",
      "menostat=Post    float64\n",
      "pnodes           float64\n",
      "progrec          float64\n",
      "tgrade             int64\n",
      "tsize            float64\n",
      "delta             uint16\n",
      "time             float64\n",
      "dtype: object \n",
      "\n",
      "\u001b[1mHistogram of randomly selected features\u001b[0m\n"
     ]
    },
    {
     "data": {
      "image/png": "[encoded data removed]",
      "text/plain": [
       "<Figure size 1080x216 with 3 Axes>"
      ]
     },
     "metadata": {
      "needs_background": "light"
     },
     "output_type": "display_data"
    },
    {
     "name": "stdout",
     "output_type": "stream",
     "text": [
      "\u001b[1mSurvival curves\u001b[0m\n"
     ]
    },
    {
     "data": {
      "image/png": "[encoded data removed]",
      "text/plain": [
       "<Figure size 720x216 with 2 Axes>"
      ]
     },
     "metadata": {
      "needs_background": "light"
     },
     "output_type": "display_data"
    }
   ],
   "source": [
    "data_name = 'GBSG'\n",
    "data_stats(datas, data_name)"
   ]
  },
  {
   "cell_type": "markdown",
   "id": "b039eccd",
   "metadata": {},
   "source": [
    "## 2. Modeling"
   ]
  },
  {
   "cell_type": "markdown",
   "id": "f75bcb3d",
   "metadata": {},
   "source": [
    "### Modeling"
   ]
  },
  {
   "cell_type": "code",
   "execution_count": 8,
   "id": "946ad76d",
   "metadata": {},
   "outputs": [
    {
     "name": "stdout",
     "output_type": "stream",
     "text": [
      "[0]\ttrain-aft-nloglik:8.22677\n",
      "[1]\ttrain-aft-nloglik:7.48820\n",
      "[2]\ttrain-aft-nloglik:6.81998\n",
      "[3]\ttrain-aft-nloglik:6.21552\n",
      "[4]\ttrain-aft-nloglik:5.66881\n",
      "[0]\ttrain-aft-nloglik:1.27526\n",
      "[1]\ttrain-aft-nloglik:1.19659\n",
      "[2]\ttrain-aft-nloglik:1.12593\n",
      "[3]\ttrain-aft-nloglik:1.06243\n",
      "[4]\ttrain-aft-nloglik:1.00534\n"
     ]
    },
    {
     "name": "stderr",
     "output_type": "stream",
     "text": [
      "/Users/acsi/Working/RF_survival/Implementations/venv3.9/lib/python3.10/site-packages/xgboost/data.py:262: FutureWarning: pandas.Int64Index is deprecated and will be removed from pandas in a future version. Use pandas.Index with the appropriate dtype instead.\n",
      "  elif isinstance(data.columns, (pd.Int64Index, pd.RangeIndex)):\n",
      "/Users/acsi/Working/RF_survival/Implementations/venv3.9/lib/python3.10/site-packages/xgboost/data.py:262: FutureWarning: pandas.Int64Index is deprecated and will be removed from pandas in a future version. Use pandas.Index with the appropriate dtype instead.\n",
      "  elif isinstance(data.columns, (pd.Int64Index, pd.RangeIndex)):\n"
     ]
    },
    {
     "name": "stdout",
     "output_type": "stream",
     "text": [
      "[0]\ttrain-aft-nloglik:6.24684\n",
      "[1]\ttrain-aft-nloglik:5.72582\n",
      "[2]\ttrain-aft-nloglik:5.25153\n",
      "[3]\ttrain-aft-nloglik:4.81956\n",
      "[4]\ttrain-aft-nloglik:4.42595\n",
      "[0]\ttrain-aft-nloglik:7.17475\n",
      "[1]\ttrain-aft-nloglik:6.56749\n",
      "[2]\ttrain-aft-nloglik:6.01734\n",
      "[3]\ttrain-aft-nloglik:5.51985\n",
      "[4]\ttrain-aft-nloglik:5.06916\n",
      "+---------------------------+--------------+---------+--------+\n",
      "|            Data           |    Algos     | C_index |  time  |\n",
      "+---------------------------+--------------+---------+--------+\n",
      "|                           | SurvivalTree |  0.650  | 0.043  |\n",
      "|                           |     RSF      |  0.870  | 0.149  |\n",
      "|            GBSG           |     GBSA     |  0.719  | 0.059  |\n",
      "|                           |    Cox_PH    |  0.688  | 0.114  |\n",
      "|                           |   XGBoost    |  0.500  | 0.023  |\n",
      "|                           |              |         |        |\n",
      "|                           | SurvivalTree |  0.637  | 0.007  |\n",
      "|                           |     RSF      |  0.789  | 0.038  |\n",
      "|           PBCSeq          |     GBSA     |  0.678  | 0.013  |\n",
      "|                           |    Cox_PH    |  0.629  | 0.039  |\n",
      "|                           |   XGBoost    |  0.563  | 0.017  |\n",
      "|                           |              |         |        |\n",
      "|                           | SurvivalTree |  0.820  | 0.001  |\n",
      "|                           |     RSF      |  0.890  | 0.014  |\n",
      "|   simple_simulated_data   |     GBSA     |  0.878  | 0.004  |\n",
      "|                           |    Cox_PH    |  0.769  | 0.027  |\n",
      "|                           |   XGBoost    |  0.500  | 0.013  |\n",
      "|                           |              |         |        |\n",
      "|                           | SurvivalTree |  0.524  | 4.238  |\n",
      "|                           |     RSF      |  0.908  | 10.129 |\n",
      "| non_linear_simulated_data |     GBSA     |  0.943  | 0.225  |\n",
      "|                           |    Cox_PH    |  0.567  | 0.151  |\n",
      "|                           |   XGBoost    |  0.209  | 0.024  |\n",
      "|                           |              |         |        |\n",
      "+---------------------------+--------------+---------+--------+\n"
     ]
    }
   ],
   "source": [
    "\n",
    "pt = PrettyTable(['Data', 'Algos', 'C_index', 'time'])\n",
    "# data loading\n",
    "# TODO: Not support linear simulated data yet.\n",
    "data_list = [\"GBSG\", \"PBCSeq\", \"simple_simulated_data\", \"non_linear_simulated_data\"]\n",
    "datas = data_loader_.load_data(data_list)\n",
    "# list of estimator's names\n",
    "estimators_name = [\"SurvivalTree\", \"RSF\", \"GBSA\", \"Cox_PH\", \"XGBoost\"]\n",
    "# params for estimator\n",
    "tree_params = {\n",
    "               \"max_depth\" : 2, \n",
    "               \"min_samples_leaf\" : 10,\n",
    "               \"n_estimators\" : 10\n",
    "              }\n",
    "xgboost_params = {'objective': 'survival:aft',\n",
    "                  'eval_metric': 'aft-nloglik',\n",
    "                  'aft_loss_distribution': 'normal',\n",
    "                  'aft_loss_distribution_scale': 1.20,\n",
    "                  'tree_method': 'hist', 'learning_rate': 0.05,\n",
    "                  'max_depth': 2}\n",
    "estimators = competing_estimators(estimators_name, tree_params, xgboost_params)\n",
    "for data in data_list:\n",
    "    (X, y) = datas[data]\n",
    "    perf_stats = estimators.fit(X, y)\n",
    "    idx = 0\n",
    "    for name, (score, running_time) in perf_stats.items():\n",
    "        if idx == (len(estimators_name) // 2):\n",
    "            pt.add_row([data, name, \"%.3f\" % score, \"%.3f\" % running_time])\n",
    "        else:\n",
    "            pt.add_row([\"\", name, \"%.3f\" % score, \"%.3f\" % running_time])\n",
    "        idx += 1\n",
    "    pt.add_row([\"\", \"\", \"\", \"\"])\n",
    "\n",
    "print(pt)"
   ]
  }
 ],
 "metadata": {
  "kernelspec": {
   "display_name": "Python 3 (ipykernel)",
   "language": "python",
   "name": "python3"
  },
  "language_info": {
   "codemirror_mode": {
    "name": "ipython",
    "version": 3
   },
   "file_extension": ".py",
   "mimetype": "text/x-python",
   "name": "python",
   "nbconvert_exporter": "python",
   "pygments_lexer": "ipython3",
   "version": "3.10.0"
  }
 },
 "nbformat": 4,
 "nbformat_minor": 5
}
