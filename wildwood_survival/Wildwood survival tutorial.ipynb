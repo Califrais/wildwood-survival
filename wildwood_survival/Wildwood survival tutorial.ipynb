{
 "cells": [
  {
   "cell_type": "code",
   "execution_count": 1,
   "id": "dbaad53f",
   "metadata": {
    "scrolled": true
   },
   "outputs": [
    {
     "name": "stderr",
     "output_type": "stream",
     "text": [
      "/Users/acsi/Working/RF_survival/Implementations/venv3.9/lib/python3.10/site-packages/xgboost/compat.py:36: FutureWarning: pandas.Int64Index is deprecated and will be removed from pandas in a future version. Use pandas.Index with the appropriate dtype instead.\n",
      "  from pandas import MultiIndex, Int64Index\n",
      "R[write to console]: Le chargement a nécessité le package : nlme\n",
      "\n",
      "R[write to console]: Le chargement a nécessité le package : survival\n",
      "\n"
     ]
    },
    {
     "name": "stdout",
     "output_type": "stream",
     "text": [
      "/Users/acsi/Working/RF_survival/Implementations/wildwood_survival/wildwood_survival\n"
     ]
    },
    {
     "name": "stderr",
     "output_type": "stream",
     "text": [
      "R[write to console]: Le chargement a nécessité le package : doParallel\n",
      "\n",
      "R[write to console]: Le chargement a nécessité le package : foreach\n",
      "\n",
      "R[write to console]: Le chargement a nécessité le package : iterators\n",
      "\n",
      "R[write to console]: Le chargement a nécessité le package : parallel\n",
      "\n",
      "R[write to console]: Le chargement a nécessité le package : rstan\n",
      "\n",
      "R[write to console]: Le chargement a nécessité le package : StanHeaders\n",
      "\n",
      "R[write to console]: Le chargement a nécessité le package : ggplot2\n",
      "\n",
      "R[write to console]: rstan (Version 2.21.2, GitRev: 2e1f913d3ca3)\n",
      "\n",
      "R[write to console]: For execution on a local, multicore CPU with excess RAM we recommend calling\n",
      "options(mc.cores = parallel::detectCores()).\n",
      "To avoid recompilation of unchanged Stan programs, we recommend calling\n",
      "rstan_options(auto_write = TRUE)\n",
      "\n"
     ]
    }
   ],
   "source": [
    "from competing_methods.estimators import competing_estimators\n",
    "from data_loader import data_loader_\n",
    "from utils.utils_ import data_stats\n",
    "\n",
    "from prettytable import PrettyTable\n",
    "import numpy as np\n",
    "import pandas as pd"
   ]
  },
  {
   "cell_type": "markdown",
   "id": "214087e5",
   "metadata": {},
   "source": [
    "# 1. Data analysis"
   ]
  },
  {
   "cell_type": "markdown",
   "id": "ec8eb1b2",
   "metadata": {},
   "source": [
    "## Data loading ##"
   ]
  },
  {
   "cell_type": "code",
   "execution_count": 2,
   "id": "15e55113",
   "metadata": {},
   "outputs": [],
   "source": [
    "data_list = [\"GBSG\", \"PBCSeq\", \"simple_simulated_data\", \"linear_simulated_data\", \"non_linear_simulated_data\"]\n",
    "datas = data_loader_.load_data(data_list)"
   ]
  },
  {
   "cell_type": "markdown",
   "id": "4ca78ef6",
   "metadata": {},
   "source": [
    "## Simulated data"
   ]
  },
  {
   "cell_type": "markdown",
   "id": "c5e21a52",
   "metadata": {},
   "source": [
    "### Simple simulated data\n",
    "\n",
    "- Dataset is simulated with simple setting"
   ]
  },
  {
   "cell_type": "code",
   "execution_count": 3,
   "id": "ce765408",
   "metadata": {
    "scrolled": false
   },
   "outputs": [
    {
     "name": "stdout",
     "output_type": "stream",
     "text": [
      "\u001b[1mFirst five observations \n",
      "\u001b[0m          f0        f1  delta       time\n",
      "0  4.426056 -2.216435      1  29.994821\n",
      "1  4.413782 -3.879467      1  28.723029\n",
      "2  4.376452 -0.964575      1  23.492304\n",
      "3  5.022796 -1.079252      1  32.529251\n",
      "4  5.872195 -3.564011      1  32.385512 \n",
      "\n",
      "\u001b[1mShape of the data \u001b[0m (100, 4) \n",
      "\n",
      "\u001b[1mLevel of censoring is \u001b[0m 0.0 % \n",
      "\n",
      "\u001b[1mData type \n",
      "\u001b[0m f0       float64\n",
      "f1       float64\n",
      "delta     uint16\n",
      "time     float64\n",
      "dtype: object \n",
      "\n",
      "\u001b[1mHistogram of randomly selected features\u001b[0m\n"
     ]
    },
    {
     "data": {
      "image/png": "[encoded data removed]",
      "text/plain": [
       "<Figure size 720x216 with 2 Axes>"
      ]
     },
     "metadata": {
      "needs_background": "light"
     },
     "output_type": "display_data"
    },
    {
     "name": "stdout",
     "output_type": "stream",
     "text": [
      "\u001b[1mSurvival curves\u001b[0m\n"
     ]
    },
    {
     "data": {
      "image/png": "[encoded data removed]",
      "text/plain": [
       "<Figure size 720x216 with 2 Axes>"
      ]
     },
     "metadata": {
      "needs_background": "light"
     },
     "output_type": "display_data"
    }
   ],
   "source": [
    "data_name = 'simple_simulated_data'\n",
    "data_stats(datas, data_name)"
   ]
  },
  {
   "cell_type": "markdown",
   "id": "454f3d99",
   "metadata": {},
   "source": [
    "### Linear simulated data\n",
    "\n",
    "- Simulated dataset with the survival time T is sampled according to an exponential Cox model in which the regression term in form linear function."
   ]
  },
  {
   "cell_type": "code",
   "execution_count": 4,
   "id": "538882f4",
   "metadata": {
    "scrolled": false
   },
   "outputs": [
    {
     "name": "stdout",
     "output_type": "stream",
     "text": [
      "\u001b[1mFirst five observations \n",
      "\u001b[0m          f0        f1        f2        f3        f4        f5        f6  \\\n",
      "0 -0.138082  0.201917 -0.772909 -0.304952 -0.653455  0.411203 -0.931894   \n",
      "1 -0.586980 -0.154614  0.191674  0.679823  0.389273  0.722547  0.174498   \n",
      "2 -0.701040  0.982987 -0.950559  0.474373 -0.155045 -0.501196 -0.228964   \n",
      "3 -0.241594 -0.132162  0.051399  0.876672 -0.232460 -0.490396 -0.776288   \n",
      "4  0.932273  0.831527  0.480271 -0.982967  0.935289  0.439185 -0.959950   \n",
      "\n",
      "         f7        f8        f9  ...       f42       f43       f44       f45  \\\n",
      "0  0.464602  0.532660 -0.954710  ...  0.422689  0.422078 -0.919511  0.890641   \n",
      "1  0.879684  0.031683 -0.409464  ...  0.732156  0.004242  0.090775  0.380496   \n",
      "2 -0.224667 -0.969010 -0.965449  ... -0.042710  0.544584 -0.982388  0.521266   \n",
      "3  0.622746 -0.496773 -0.504311  ...  0.174923 -0.553573  0.311153 -0.265892   \n",
      "4 -0.908540 -0.853654 -0.893520  ...  0.816992  0.546677 -0.566352 -0.773509   \n",
      "\n",
      "        f46       f47       f48       f49  delta       time  \n",
      "0  0.796343 -0.224853 -0.288638  0.443102      1   0.128353  \n",
      "1 -0.455499 -0.312294  0.758888  0.691788      1   0.725289  \n",
      "2 -0.720752  0.298690  0.066875  0.682439      1   0.204591  \n",
      "3  0.069041  0.151769  0.853680 -0.042804      1   0.703475  \n",
      "4  0.066097 -0.204818  0.602923 -0.346281      0  31.275418  \n",
      "\n",
      "[5 rows x 52 columns] \n",
      "\n",
      "\u001b[1mShape of the data \u001b[0m (1000, 52) \n",
      "\n",
      "\u001b[1mLevel of censoring is \u001b[0m 12.1 % \n",
      "\n",
      "\u001b[1mData type \n",
      "\u001b[0m f0       float64\n",
      "f1       float64\n",
      "f2       float64\n",
      "f3       float64\n",
      "f4       float64\n",
      "f5       float64\n",
      "f6       float64\n",
      "f7       float64\n",
      "f8       float64\n",
      "f9       float64\n",
      "f10      float64\n",
      "f11      float64\n",
      "f12      float64\n",
      "f13      float64\n",
      "f14      float64\n",
      "f15      float64\n",
      "f16      float64\n",
      "f17      float64\n",
      "f18      float64\n",
      "f19      float64\n",
      "f20      float64\n",
      "f21      float64\n",
      "f22      float64\n",
      "f23      float64\n",
      "f24      float64\n",
      "f25      float64\n",
      "f26      float64\n",
      "f27      float64\n",
      "f28      float64\n",
      "f29      float64\n",
      "f30      float64\n",
      "f31      float64\n",
      "f32      float64\n",
      "f33      float64\n",
      "f34      float64\n",
      "f35      float64\n",
      "f36      float64\n",
      "f37      float64\n",
      "f38      float64\n",
      "f39      float64\n",
      "f40      float64\n",
      "f41      float64\n",
      "f42      float64\n",
      "f43      float64\n",
      "f44      float64\n",
      "f45      float64\n",
      "f46      float64\n",
      "f47      float64\n",
      "f48      float64\n",
      "f49      float64\n",
      "delta     uint16\n",
      "time     float64\n",
      "dtype: object \n",
      "\n",
      "\u001b[1mHistogram of randomly selected features\u001b[0m\n"
     ]
    },
    {
     "data": {
      "image/png": "[encoded data removed]",
      "text/plain": [
       "<Figure size 1080x216 with 3 Axes>"
      ]
     },
     "metadata": {
      "needs_background": "light"
     },
     "output_type": "display_data"
    },
    {
     "name": "stdout",
     "output_type": "stream",
     "text": [
      "\u001b[1mSurvival curves\u001b[0m\n"
     ]
    },
    {
     "data": {
      "image/png": "[encoded data removed]",
      "text/plain": [
       "<Figure size 720x216 with 2 Axes>"
      ]
     },
     "metadata": {
      "needs_background": "light"
     },
     "output_type": "display_data"
    }
   ],
   "source": [
    "data_name = 'linear_simulated_data'\n",
    "data_stats(datas, data_name)"
   ]
  },
  {
   "cell_type": "markdown",
   "id": "ccb2d24c",
   "metadata": {},
   "source": [
    "### Non linear simulated data\n",
    "\n",
    "- Simulated dataset with the survival time T is sampled according to an exponential Cox model in which the regression term in form exponential function."
   ]
  },
  {
   "cell_type": "code",
   "execution_count": 5,
   "id": "1f35c9c0",
   "metadata": {},
   "outputs": [
    {
     "name": "stdout",
     "output_type": "stream",
     "text": [
      "\u001b[1mFirst five observations \n",
      "\u001b[0m          f0        f1        f2        f3        f4        f5        f6  \\\n",
      "0 -0.332032  0.794221  0.302725  0.077851 -0.159085 -0.024456 -0.705782   \n",
      "1  0.531311  0.352651  0.180226 -0.039653  0.089861  0.667129  0.789915   \n",
      "2 -0.435216  0.863401 -0.403898 -0.070498  0.092902  0.732924 -0.814635   \n",
      "3  0.446431  0.668952 -0.828450 -0.477985  0.651108  0.098880  0.553407   \n",
      "4 -0.155896  0.578380  0.777072  0.204682 -0.465130 -0.563700 -0.139176   \n",
      "\n",
      "         f7        f8        f9  ...       f42       f43       f44       f45  \\\n",
      "0 -0.706422 -0.088487 -0.236950  ...  0.964347  0.672638  0.601480  0.218209   \n",
      "1  0.372852  0.479418  0.102849  ...  0.425258 -0.978026  0.406790  0.460453   \n",
      "2  0.435331  0.083344 -0.247414  ...  0.027457  0.640363 -0.160361  0.994039   \n",
      "3  0.440151 -0.277093 -0.417452  ... -0.296418 -0.294601  0.484576 -0.479597   \n",
      "4  0.451742 -0.646781 -0.034063  ...  0.173492  0.612614 -0.502007  0.049919   \n",
      "\n",
      "        f46       f47       f48       f49  delta        time  \n",
      "0 -0.185426 -0.986151  0.508662  0.949579      1   97.052266  \n",
      "1  0.151902  0.449370 -0.410262  0.115462      1   54.588378  \n",
      "2 -0.816309 -0.611247 -0.673563 -0.723242      1   73.762113  \n",
      "3  0.292933  0.871434 -0.927756 -0.803682      1   71.360873  \n",
      "4  0.587122  0.267147 -0.412530  0.241773      1  133.351222  \n",
      "\n",
      "[5 rows x 52 columns] \n",
      "\n",
      "\u001b[1mShape of the data \u001b[0m (1000, 52) \n",
      "\n",
      "\u001b[1mLevel of censoring is \u001b[0m 18.3 % \n",
      "\n",
      "\u001b[1mData type \n",
      "\u001b[0m f0       float64\n",
      "f1       float64\n",
      "f2       float64\n",
      "f3       float64\n",
      "f4       float64\n",
      "f5       float64\n",
      "f6       float64\n",
      "f7       float64\n",
      "f8       float64\n",
      "f9       float64\n",
      "f10      float64\n",
      "f11      float64\n",
      "f12      float64\n",
      "f13      float64\n",
      "f14      float64\n",
      "f15      float64\n",
      "f16      float64\n",
      "f17      float64\n",
      "f18      float64\n",
      "f19      float64\n",
      "f20      float64\n",
      "f21      float64\n",
      "f22      float64\n",
      "f23      float64\n",
      "f24      float64\n",
      "f25      float64\n",
      "f26      float64\n",
      "f27      float64\n",
      "f28      float64\n",
      "f29      float64\n",
      "f30      float64\n",
      "f31      float64\n",
      "f32      float64\n",
      "f33      float64\n",
      "f34      float64\n",
      "f35      float64\n",
      "f36      float64\n",
      "f37      float64\n",
      "f38      float64\n",
      "f39      float64\n",
      "f40      float64\n",
      "f41      float64\n",
      "f42      float64\n",
      "f43      float64\n",
      "f44      float64\n",
      "f45      float64\n",
      "f46      float64\n",
      "f47      float64\n",
      "f48      float64\n",
      "f49      float64\n",
      "delta     uint16\n",
      "time     float64\n",
      "dtype: object \n",
      "\n",
      "\u001b[1mHistogram of randomly selected features\u001b[0m\n"
     ]
    },
    {
     "data": {
      "image/png": "[encoded data removed]",
      "text/plain": [
       "<Figure size 1080x216 with 3 Axes>"
      ]
     },
     "metadata": {
      "needs_background": "light"
     },
     "output_type": "display_data"
    },
    {
     "name": "stdout",
     "output_type": "stream",
     "text": [
      "\u001b[1mSurvival curves\u001b[0m\n"
     ]
    },
    {
     "data": {
      "image/png": "[encoded data removed]",
      "text/plain": [
       "<Figure size 720x216 with 2 Axes>"
      ]
     },
     "metadata": {
      "needs_background": "light"
     },
     "output_type": "display_data"
    }
   ],
   "source": [
    "data_name = 'non_linear_simulated_data'\n",
    "data_stats(datas, data_name)"
   ]
  },
  {
   "cell_type": "markdown",
   "id": "32939944",
   "metadata": {},
   "source": [
    "## Real data"
   ]
  },
  {
   "cell_type": "markdown",
   "id": "eacf4bdf",
   "metadata": {},
   "source": [
    "### Mayo Clinic Primary Biliary Cirrhosis"
   ]
  },
  {
   "cell_type": "code",
   "execution_count": 6,
   "id": "44d9ece4",
   "metadata": {},
   "outputs": [
    {
     "name": "stdout",
     "output_type": "stream",
     "text": [
      "\u001b[1mFirst five observations \n",
      "\u001b[0m     drug        age  sex  delta       time\n",
      "0    2.0  58.766838  2.0      1   1.095170\n",
      "2    2.0  56.447815  2.0      0  14.152338\n",
      "11   2.0  70.074472  1.0      1   2.770781\n",
      "15   2.0  54.742087  2.0      1   5.270507\n",
      "22   1.0  38.106451  2.0      0   4.120578 \n",
      "\n",
      "\u001b[1mShape of the data \u001b[0m (312, 5) \n",
      "\n",
      "\u001b[1mLevel of censoring is \u001b[0m 55.1 % \n",
      "\n",
      "\u001b[1mData type \n",
      "\u001b[0m drug     float64\n",
      "age      float64\n",
      "sex      float64\n",
      "delta     uint16\n",
      "time     float64\n",
      "dtype: object \n",
      "\n",
      "\u001b[1mHistogram of randomly selected features\u001b[0m\n"
     ]
    },
    {
     "data": {
      "image/png": "[encoded data removed]",
      "text/plain": [
       "<Figure size 1080x216 with 3 Axes>"
      ]
     },
     "metadata": {
      "needs_background": "light"
     },
     "output_type": "display_data"
    },
    {
     "name": "stdout",
     "output_type": "stream",
     "text": [
      "\u001b[1mSurvival curves\u001b[0m\n"
     ]
    },
    {
     "data": {
      "image/png": "[encoded data removed]",
      "text/plain": [
       "<Figure size 720x216 with 2 Axes>"
      ]
     },
     "metadata": {
      "needs_background": "light"
     },
     "output_type": "display_data"
    }
   ],
   "source": [
    "data_name = 'PBCSeq'\n",
    "data_stats(datas, data_name)"
   ]
  },
  {
   "cell_type": "markdown",
   "id": "268ba12a",
   "metadata": {},
   "source": [
    "### German Breast Cancer Study Group"
   ]
  },
  {
   "cell_type": "code",
   "execution_count": 7,
   "id": "8cd517be",
   "metadata": {},
   "outputs": [
    {
     "name": "stdout",
     "output_type": "stream",
     "text": [
      "\u001b[1mFirst five observations \n",
      "\u001b[0m     age  estrec  horTh=yes  menostat=Post  pnodes  progrec  tgrade  tsize  \\\n",
      "0  70.0    66.0        0.0            1.0     3.0     48.0       2   21.0   \n",
      "1  56.0    77.0        1.0            1.0     7.0     61.0       2   12.0   \n",
      "2  58.0   271.0        1.0            1.0     9.0     52.0       2   35.0   \n",
      "3  59.0    29.0        1.0            1.0     4.0     60.0       2   17.0   \n",
      "4  73.0    65.0        0.0            1.0     1.0     26.0       2   35.0   \n",
      "\n",
      "   delta    time  \n",
      "0      1  1814.0  \n",
      "1      1  2018.0  \n",
      "2      1   712.0  \n",
      "3      1  1807.0  \n",
      "4      1   772.0   \n",
      "\n",
      "\u001b[1mShape of the data \u001b[0m (686, 10) \n",
      "\n",
      "\u001b[1mLevel of censoring is \u001b[0m 56.4 % \n",
      "\n",
      "\u001b[1mData type \n",
      "\u001b[0m age              float64\n",
      "estrec           float64\n",
      "horTh=yes        float64\n",
      "menostat=Post    float64\n",
      "pnodes           float64\n",
      "progrec          float64\n",
      "tgrade             int64\n",
      "tsize            float64\n",
      "delta             uint16\n",
      "time             float64\n",
      "dtype: object \n",
      "\n",
      "\u001b[1mHistogram of randomly selected features\u001b[0m\n"
     ]
    },
    {
     "data": {
      "image/png": "[encoded data removed]",
      "text/plain": [
       "<Figure size 1080x216 with 3 Axes>"
      ]
     },
     "metadata": {
      "needs_background": "light"
     },
     "output_type": "display_data"
    },
    {
     "name": "stdout",
     "output_type": "stream",
     "text": [
      "\u001b[1mSurvival curves\u001b[0m\n"
     ]
    },
    {
     "data": {
      "image/png": "[encoded data removed]",
      "text/plain": [
       "<Figure size 720x216 with 2 Axes>"
      ]
     },
     "metadata": {
      "needs_background": "light"
     },
     "output_type": "display_data"
    }
   ],
   "source": [
    "data_name = 'GBSG'\n",
    "data_stats(datas, data_name)"
   ]
  },
  {
   "cell_type": "markdown",
   "id": "b039eccd",
   "metadata": {},
   "source": [
    "## 2. Modeling"
   ]
  },
  {
   "cell_type": "markdown",
   "id": "f75bcb3d",
   "metadata": {},
   "source": [
    "### Modeling"
   ]
  },
  {
   "cell_type": "code",
   "execution_count": 8,
   "id": "946ad76d",
   "metadata": {},
   "outputs": [
    {
     "name": "stdout",
     "output_type": "stream",
     "text": [
      "[0]\ttrain-aft-nloglik:8.22677\n",
      "[1]\ttrain-aft-nloglik:7.48820\n",
      "[2]\ttrain-aft-nloglik:6.81998\n",
      "[3]\ttrain-aft-nloglik:6.21552\n",
      "[4]\ttrain-aft-nloglik:5.66881\n",
      "[0]\ttrain-aft-nloglik:1.27526\n",
      "[1]\ttrain-aft-nloglik:1.19659\n",
      "[2]\ttrain-aft-nloglik:1.12593\n",
      "[3]\ttrain-aft-nloglik:1.06243\n",
      "[4]\ttrain-aft-nloglik:1.00534\n"
     ]
    },
    {
     "name": "stderr",
     "output_type": "stream",
     "text": [
      "/Users/acsi/Working/RF_survival/Implementations/venv3.9/lib/python3.10/site-packages/xgboost/data.py:262: FutureWarning: pandas.Int64Index is deprecated and will be removed from pandas in a future version. Use pandas.Index with the appropriate dtype instead.\n",
      "  elif isinstance(data.columns, (pd.Int64Index, pd.RangeIndex)):\n",
      "/Users/acsi/Working/RF_survival/Implementations/venv3.9/lib/python3.10/site-packages/xgboost/data.py:262: FutureWarning: pandas.Int64Index is deprecated and will be removed from pandas in a future version. Use pandas.Index with the appropriate dtype instead.\n",
      "  elif isinstance(data.columns, (pd.Int64Index, pd.RangeIndex)):\n"
     ]
    },
    {
     "name": "stdout",
     "output_type": "stream",
     "text": [
      "[0]\ttrain-aft-nloglik:6.31875\n",
      "[1]\ttrain-aft-nloglik:5.79110\n",
      "[2]\ttrain-aft-nloglik:5.31081\n",
      "[3]\ttrain-aft-nloglik:4.87343\n",
      "[4]\ttrain-aft-nloglik:4.47491\n",
      "[0]\ttrain-aft-nloglik:7.38756\n",
      "[1]\ttrain-aft-nloglik:6.75840\n",
      "[2]\ttrain-aft-nloglik:6.18916\n",
      "[3]\ttrain-aft-nloglik:5.67373\n",
      "[4]\ttrain-aft-nloglik:5.20716\n",
      "+---------------------------+--------------+---------+-------+\n",
      "|            Data           |    Algos     | C_index |  time |\n",
      "+---------------------------+--------------+---------+-------+\n",
      "|                           | SurvivalTree |  0.047  | 0.650 |\n",
      "|                           |     RSF      |  0.164  | 0.875 |\n",
      "|            GBSG           |     GBSA     |  0.061  | 0.719 |\n",
      "|                           |    Cox_PH    |  0.134  | 0.688 |\n",
      "|                           |   XGBoost    |  0.034  | 0.500 |\n",
      "|                           |              |         |       |\n",
      "|                           | SurvivalTree |  0.008  | 0.637 |\n",
      "|                           |     RSF      |  0.042  | 0.780 |\n",
      "|           PBCSeq          |     GBSA     |  0.014  | 0.678 |\n",
      "|                           |    Cox_PH    |  0.043  | 0.629 |\n",
      "|                           |   XGBoost    |  0.019  | 0.563 |\n",
      "|                           |              |         |       |\n",
      "|                           | SurvivalTree |  0.002  | 0.823 |\n",
      "|                           |     RSF      |  0.016  | 0.892 |\n",
      "|   simple_simulated_data   |     GBSA     |  0.004  | 0.877 |\n",
      "|                           |    Cox_PH    |  0.026  | 0.829 |\n",
      "|                           |   XGBoost    |  0.015  | 0.500 |\n",
      "|                           |              |         |       |\n",
      "|                           | SurvivalTree |  4.342  | 0.524 |\n",
      "|                           |     RSF      |  10.843 | 0.901 |\n",
      "| non_linear_simulated_data |     GBSA     |  0.252  | 0.949 |\n",
      "|                           |    Cox_PH    |  0.161  | 0.576 |\n",
      "|                           |   XGBoost    |  0.023  | 0.207 |\n",
      "|                           |              |         |       |\n",
      "+---------------------------+--------------+---------+-------+\n"
     ]
    }
   ],
   "source": [
    "\n",
    "pt = PrettyTable(['Data', 'Algos', 'C_index', 'time'])\n",
    "# data loading\n",
    "# TODO: Not support linear simulated data yet.\n",
    "data_list = [\"GBSG\", \"PBCSeq\", \"simple_simulated_data\", \"non_linear_simulated_data\"]\n",
    "datas = data_loader_.load_data(data_list)\n",
    "# list of estimator's names\n",
    "estimators_name = [\"SurvivalTree\", \"RSF\", \"GBSA\", \"Cox_PH\", \"XGBoost\"]\n",
    "# params for estimator\n",
    "tree_params = {\n",
    "               \"max_depth\" : 2, \n",
    "               \"min_samples_leaf\" : 10,\n",
    "               \"n_estimators\" : 10\n",
    "              }\n",
    "xgboost_params = {'objective': 'survival:aft',\n",
    "                  'eval_metric': 'aft-nloglik',\n",
    "                  'aft_loss_distribution': 'normal',\n",
    "                  'aft_loss_distribution_scale': 1.20,\n",
    "                  'tree_method': 'hist', 'learning_rate': 0.05,\n",
    "                  'max_depth': 2}\n",
    "estimators = competing_estimators(estimators_name, tree_params, xgboost_params)\n",
    "for data in data_list:\n",
    "    (X, y) = datas[data]\n",
    "    perf_stats = estimators.fit(X, y)\n",
    "    idx = 0\n",
    "    for name, (running_time, score) in perf_stats.items():\n",
    "        if idx == (len(estimators_name) // 2):\n",
    "            pt.add_row([data, name, \"%.3f\" % score, \"%.3f\" % running_time])\n",
    "        else:\n",
    "            pt.add_row([\"\", name, \"%.3f\" % score, \"%.3f\" % running_time])\n",
    "        idx += 1\n",
    "    pt.add_row([\"\", \"\", \"\", \"\"])\n",
    "\n",
    "print(pt)"
   ]
  },
  {
   "cell_type": "code",
   "execution_count": null,
   "id": "45cfe071",
   "metadata": {},
   "outputs": [],
   "source": []
  }
 ],
 "metadata": {
  "kernelspec": {
   "display_name": "Python 3 (ipykernel)",
   "language": "python",
   "name": "python3"
  },
  "language_info": {
   "codemirror_mode": {
    "name": "ipython",
    "version": 3
   },
   "file_extension": ".py",
   "mimetype": "text/x-python",
   "name": "python",
   "nbconvert_exporter": "python",
   "pygments_lexer": "ipython3",
   "version": "3.10.0"
  }
 },
 "nbformat": 4,
 "nbformat_minor": 5
}
